{
 "cells": [
  {
   "cell_type": "markdown",
   "metadata": {},
   "source": [
    "question 1:\n",
    "Given two numbers a and b ,find a/b (b could be zero)"
   ]
  },
  {
   "cell_type": "code",
   "execution_count": 3,
   "metadata": {},
   "outputs": [
    {
     "name": "stdout",
     "output_type": "stream",
     "text": [
      "1.0\n"
     ]
    }
   ],
   "source": [
    "a=int(input(\"enter first number\"))      #To give divident\n",
    "b=int(input(\"enter second number\"))     #To give divisior\n",
    "if b !=0:                       #condition when b is non zero\n",
    "    print(a/b)\n",
    "else:                     #condition when b is zreo\n",
    "        print(\"not defined\")\n",
    "\n",
    "\n"
   ]
  },
  {
   "cell_type": "markdown",
   "metadata": {},
   "source": [
    "questin 2:\n",
    "    Given a point in space ,find the quadrant in which it lies"
   ]
  },
  {
   "cell_type": "code",
   "execution_count": 10,
   "metadata": {},
   "outputs": [
    {
     "name": "stdout",
     "output_type": "stream",
     "text": [
      "origin\n"
     ]
    }
   ],
   "source": [
    "x=float(input(\"enter the x coordinate\")) \n",
    "#To give x coordinate of point\n",
    "y=float(input(\"enter the y coordinate\"))\n",
    "#To give y coordinate of point\n",
    "if x>0 and y>0:\n",
    "    print(\"In first quadrant\")\n",
    "    #condition for first quadrant\n",
    "elif x<0 and y>0:\n",
    "    print(\"In second quadrant\")\n",
    "    #condition for second quadrant\n",
    "elif x<0 and y<0:\n",
    "    print(\"In third quadrant\")\n",
    "    #condition for third quadrant\n",
    "elif x>0 and y<0:\n",
    "    print(\"In fourth quadrant\")\n",
    "    #condition for fourth quadrant\n",
    "elif x==0 and y!=0:\n",
    "    print(\"on y axis\")\n",
    "    #condition for y axis\n",
    "elif x!=0 and y==0:\n",
    "    print(\"on x axis\")\n",
    "   # condition for x axis \n",
    "else :\n",
    "    print(\"origin\")\n",
    "    #for origin\n"
   ]
  },
  {
   "cell_type": "markdown",
   "metadata": {},
   "source": [
    "question 3:\n",
    "       Given two points in 2d space , find the slope and  y-intercspt of the line joining them . Consider all cases"
   ]
  },
  {
   "cell_type": "code",
   "execution_count": 40,
   "metadata": {},
   "outputs": [
    {
     "name": "stdout",
     "output_type": "stream",
     "text": [
      "slope= 1.0\n",
      "y-intercept is= 0.0\n"
     ]
    }
   ],
   "source": [
    "x1=float(input(\"enter the x1 coordinate\"))\n",
    "#To give x1 coordinate of first point\n",
    "y1=float(input(\"enter the y1 coordinate\"))\n",
    "#To give y1 coordinate of first point\n",
    "x2=float(input(\"enter the x2 coordinate\"))\n",
    "#To give x2 coordinate of second point\n",
    "y2=float(input(\"enter the y2 coordinate\"))\n",
    "#To give y2 coordinate of second point\n",
    "slope=(x2-x1)/(y2-y1)\n",
    "#Formula of slope\n",
    "print(\"slope=\",slope)\n",
    "c =y1-slope*x1    #c is y imtercept\n",
    "#This the formula of y interept\n",
    "print(\"y-intercept is=\",c)\n"
   ]
  },
  {
   "cell_type": "markdown",
   "metadata": {},
   "source": [
    "question 4:\n",
    "    Given a temperature in Farenheit,convert it to celcius .if the temperature is below 10 degree celcius output cold ,between 10 and 25 output pleasant, between 25 to 35 output warm, an dabove 35 output hot\n"
   ]
  },
  {
   "cell_type": "code",
   "execution_count": null,
   "metadata": {},
   "outputs": [],
   "source": [
    "\n",
    "f=float(input(\"enter temperature in farenhiet\"))\n",
    "#f=Temperatute in farenhiet \n",
    "c=(f-32)*5/9\n",
    "#Formula to convert Farenhiet imto celcius \n",
    "if c<10:\n",
    "    print(\"cold\")\n",
    "elif c>=25:\n",
    "    print(\"pleasant\")\n",
    "elif c>=35:\n",
    "    print(\"warm\")\n",
    "else :\n",
    "    print(\"hot\")"
   ]
  },
  {
   "cell_type": "markdown",
   "metadata": {},
   "source": [
    "question 5:\n",
    "    Given a quadratic equation with coefficients a,b and c, find the two solutions (may be real or complex ).you should not take the square root of a negative number \n",
    "    "
   ]
  },
  {
   "cell_type": "code",
   "execution_count": 34,
   "metadata": {},
   "outputs": [
    {
     "name": "stdout",
     "output_type": "stream",
     "text": [
      "equation is 1 x**2+ 5 x**1+ 2\n",
      "roots are real and unequal\n",
      "roots are  -0.75 and -9.25\n"
     ]
    }
   ],
   "source": [
    "a=int(input(\"enter the coefficint of x**2\"))\n",
    "#a=coefficint of x**2\n",
    "b=int(input(\"enter the coefficint of x**1\"))\n",
    "#b=coefficient of b**1\n",
    "c=int(input(\"enter the constant \"))\n",
    "#c is constant\n",
    "print(\"equation is\",a,\"x**2+\",b,\"x**1+\",c)\n",
    "d=b**2-(4*a*c)\n",
    "# d is discriminant of quadratic equation\n",
    "if d>0:\n",
    "    print(\"roots are real and unequal\")\n",
    "elif d==0:\n",
    "    print(\"roots are real and equal\")\n",
    "else:\n",
    "    print (\"roots are imaginary\")\n",
    "    print(\"real part=\",-b/2*a,\"imginary part=\",(-d**0.5)/2*a)\n",
    "r1=-b+(d**1/2)/2*a   #r1 root \n",
    "r2=-b-(d**1/2)/2*a   #r2 root\n",
    "print(\"roots are \",r1,\"and\",r2)\n",
    "\n"
   ]
  },
  {
   "cell_type": "markdown",
   "metadata": {},
   "source": []
  },
  {
   "cell_type": "markdown",
   "metadata": {},
   "source": [
    "question 6:\n",
    "Given three points , find find out whether they lie on same staight line or not\n"
   ]
  },
  {
   "cell_type": "code",
   "execution_count": 36,
   "metadata": {},
   "outputs": [
    {
     "name": "stdout",
     "output_type": "stream",
     "text": [
      "All the points are on same straight line\n"
     ]
    }
   ],
   "source": [
    "x1=float(input(\"x coordinate of first point\"))\n",
    "y1=float(input(\"y coordinate of first point\"))\n",
    "x2=float(input(\"x coordinate of second point\"))\n",
    "y2=float(input(\"y coordinate of secind point\"))\n",
    "x3=float(input(\"x coordinate of third point\"))\n",
    "y3=float(input(\"y coordinate of third point\"))\n",
    "\n",
    "a=(x2-x1)/(y2-y1)\n",
    "b=(x3-x2)/(y3-y2)\n",
    "if a==b:\n",
    "    print (\"All the points are on same straight line\")\n",
    "else:\n",
    "    print(\"points are not on same straight line\")\n"
   ]
  },
  {
   "cell_type": "code",
   "execution_count": null,
   "metadata": {},
   "outputs": [],
   "source": []
  },
  {
   "cell_type": "code",
   "execution_count": null,
   "metadata": {},
   "outputs": [],
   "source": []
  },
  {
   "cell_type": "code",
   "execution_count": null,
   "metadata": {},
   "outputs": [],
   "source": []
  },
  {
   "cell_type": "code",
   "execution_count": null,
   "metadata": {},
   "outputs": [],
   "source": []
  },
  {
   "cell_type": "code",
   "execution_count": null,
   "metadata": {},
   "outputs": [],
   "source": []
  },
  {
   "cell_type": "code",
   "execution_count": null,
   "metadata": {},
   "outputs": [],
   "source": []
  },
  {
   "cell_type": "code",
   "execution_count": null,
   "metadata": {},
   "outputs": [],
   "source": []
  },
  {
   "cell_type": "code",
   "execution_count": null,
   "metadata": {},
   "outputs": [],
   "source": []
  },
  {
   "cell_type": "code",
   "execution_count": null,
   "metadata": {},
   "outputs": [],
   "source": []
  },
  {
   "cell_type": "code",
   "execution_count": null,
   "metadata": {},
   "outputs": [],
   "source": []
  },
  {
   "cell_type": "code",
   "execution_count": null,
   "metadata": {},
   "outputs": [],
   "source": []
  },
  {
   "cell_type": "code",
   "execution_count": null,
   "metadata": {},
   "outputs": [],
   "source": []
  },
  {
   "cell_type": "code",
   "execution_count": null,
   "metadata": {},
   "outputs": [],
   "source": []
  },
  {
   "cell_type": "code",
   "execution_count": null,
   "metadata": {},
   "outputs": [],
   "source": []
  },
  {
   "cell_type": "code",
   "execution_count": null,
   "metadata": {},
   "outputs": [],
   "source": []
  },
  {
   "cell_type": "code",
   "execution_count": null,
   "metadata": {},
   "outputs": [],
   "source": []
  },
  {
   "cell_type": "code",
   "execution_count": null,
   "metadata": {},
   "outputs": [],
   "source": []
  },
  {
   "cell_type": "code",
   "execution_count": null,
   "metadata": {},
   "outputs": [],
   "source": []
  },
  {
   "cell_type": "code",
   "execution_count": null,
   "metadata": {},
   "outputs": [],
   "source": []
  },
  {
   "cell_type": "code",
   "execution_count": null,
   "metadata": {},
   "outputs": [],
   "source": []
  },
  {
   "cell_type": "code",
   "execution_count": null,
   "metadata": {},
   "outputs": [],
   "source": []
  },
  {
   "cell_type": "code",
   "execution_count": null,
   "metadata": {},
   "outputs": [],
   "source": []
  },
  {
   "cell_type": "code",
   "execution_count": null,
   "metadata": {},
   "outputs": [],
   "source": []
  },
  {
   "cell_type": "code",
   "execution_count": null,
   "metadata": {},
   "outputs": [],
   "source": []
  },
  {
   "cell_type": "code",
   "execution_count": null,
   "metadata": {},
   "outputs": [],
   "source": []
  },
  {
   "cell_type": "code",
   "execution_count": null,
   "metadata": {},
   "outputs": [],
   "source": []
  },
  {
   "cell_type": "code",
   "execution_count": null,
   "metadata": {},
   "outputs": [],
   "source": []
  },
  {
   "cell_type": "code",
   "execution_count": null,
   "metadata": {},
   "outputs": [],
   "source": []
  },
  {
   "cell_type": "code",
   "execution_count": null,
   "metadata": {},
   "outputs": [],
   "source": []
  }
 ],
 "metadata": {
  "kernelspec": {
   "display_name": "Python 3",
   "language": "python",
   "name": "python3"
  },
  "language_info": {
   "codemirror_mode": {
    "name": "ipython",
    "version": 3
   },
   "file_extension": ".py",
   "mimetype": "text/x-python",
   "name": "python",
   "nbconvert_exporter": "python",
   "pygments_lexer": "ipython3",
   "version": "3.11.5"
  },
  "orig_nbformat": 4
 },
 "nbformat": 4,
 "nbformat_minor": 2
}
